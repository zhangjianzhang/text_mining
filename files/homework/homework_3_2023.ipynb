{
 "cells": [
  {
   "cell_type": "markdown",
   "id": "f1a58152-baf6-4cc2-8310-cb3531388589",
   "metadata": {},
   "source": [
    "### 第一题"
   ]
  },
  {
   "cell_type": "markdown",
   "id": "55b24c46-f5c6-41dd-b9f6-e5874fdf63fc",
   "metadata": {},
   "source": [
    "使用本课程提供的中文新闻语料库，使用`gensim`中的LDA实现进行主题题挖掘，具体要求如下：\n",
    "\n",
    "- 自行查找资料学习主题挖掘结果定量度量指标；\n",
    "- 绘图对比不同主题建模方法结果的定量指标，横轴为主题数 K， 纵轴为所选取的定量指标；\n",
    "- 学习使用`ERTopic`进行主题建模，并使用本课程的中文新闻语料库进行主题挖掘和主题可视化展示\n",
    "\n",
    "中文新闻语料库下载地址如下：\n",
    "\n",
    "https://www.kaggle.com/datasets/jianzhangzhang/text-mining-course-data?select=cn_news_tagged\n",
    "\n",
    "参考资料：\n",
    "\n",
    "- Topic coherence pipeline，https://radimrehurek.com/gensim/models/coherencemodel.html\n",
    "- Evaluate Topic Models: Latent Dirichlet Allocation (LDA)，https://towardsdatascience.com/evaluate-topic-model-in-python-latent-dirichlet-allocation-lda-7d57484bb5d0\n",
    "- LDA and Topic Coherence Score，https://www.kaggle.com/code/trnduythanhkhttt/lda-and-topic-coherence-score\n",
    "- Gensim - Documents & LDA Model，https://www.tutorialspoint.com/gensim/gensim_documents_and_lda_model.htm\n",
    "- BERTopic主页，/github.com/MaartenGr/BERTopic"
   ]
  },
  {
   "cell_type": "code",
   "execution_count": 2,
   "id": "cad25c36-555f-4176-b1d2-b9bcefb8128c",
   "metadata": {},
   "outputs": [],
   "source": [
    "### 请在这里写你的答案"
   ]
  },
  {
   "cell_type": "code",
   "execution_count": null,
   "id": "6113c8a1-74f7-4df8-9374-4c32d4359c4b",
   "metadata": {},
   "outputs": [],
   "source": []
  }
 ],
 "metadata": {
  "kernelspec": {
   "display_name": "Python 3 (ipykernel)",
   "language": "python",
   "name": "python3"
  },
  "language_info": {
   "codemirror_mode": {
    "name": "ipython",
    "version": 3
   },
   "file_extension": ".py",
   "mimetype": "text/x-python",
   "name": "python",
   "nbconvert_exporter": "python",
   "pygments_lexer": "ipython3",
   "version": "3.9.7"
  }
 },
 "nbformat": 4,
 "nbformat_minor": 5
}
