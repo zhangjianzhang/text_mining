{
 "cells": [
  {
   "cell_type": "markdown",
   "id": "f1a58152-baf6-4cc2-8310-cb3531388589",
   "metadata": {},
   "source": [
    "### 第一题"
   ]
  },
  {
   "cell_type": "markdown",
   "id": "55b24c46-f5c6-41dd-b9f6-e5874fdf63fc",
   "metadata": {},
   "source": [
    "使用本课程提供的中文新闻语料库，使用`scikit-learn`中的聚类算法进行中文新闻聚类，并对聚类结果进行分析，具体要求如下：\n",
    "\n",
    "1. 参考课件配套的聚类代码，构造用于聚类的新闻数据集，请不要使用与课件完全相同的文本数据；\n",
    "2. 使用K-均值和HAC算法，也鼓励使用其他聚类算法，对第1步构造的新闻数据集进行聚类；\n",
    "3. 对聚类结果计算外部和内部评价指标，对比类簇数`K`相同时，不同的算法设定下，聚类结果的外部和内部评价指标得分差异，对结果进行简要描述和分析；\n",
    "4. 对聚类结果计算外部和内部评价指标，对比类簇数`K`变化时，相同的算法设定下，聚类结果的外部和内部评价指标得分差异，对结果进行简要描述和分析；\n",
    "\n",
    "**注意**\n",
    "\n",
    "1. 不同的算法设定包括：文本向量化方法不同，聚类算法不同，聚类算法的参数不同；\n",
    "2. 第3小题，至少对比三种不同算法设定；\n",
    "3. 第3小题，至少选择一种外部评价指标和一种内部评价指标；\n",
    "4. 第4小题，至少选择一种外部评价指标和一种内部评价指标；\n",
    "5. 第4小题，请绘图分析，横轴为主题数 K，纵轴为所选取的评价指标；\n",
    "\n",
    "\n",
    "**中文新闻语料库下载地址如下**：\n",
    "\n",
    "1. https://www.kaggle.com/datasets/jianzhangzhang/text-mining-course-data?select=cn_news_tagged\n",
    "\n",
    "\n",
    "**参考资料**\n",
    "\n",
    "1. 课件和课件配套代码"
   ]
  },
  {
   "cell_type": "code",
   "execution_count": 2,
   "id": "cad25c36-555f-4176-b1d2-b9bcefb8128c",
   "metadata": {},
   "outputs": [],
   "source": [
    "### 请在这里写你的答案"
   ]
  },
  {
   "cell_type": "code",
   "execution_count": null,
   "id": "6113c8a1-74f7-4df8-9374-4c32d4359c4b",
   "metadata": {},
   "outputs": [],
   "source": []
  }
 ],
 "metadata": {
  "kernelspec": {
   "display_name": "Python 3 (ipykernel)",
   "language": "python",
   "name": "python3"
  },
  "language_info": {
   "codemirror_mode": {
    "name": "ipython",
    "version": 3
   },
   "file_extension": ".py",
   "mimetype": "text/x-python",
   "name": "python",
   "nbconvert_exporter": "python",
   "pygments_lexer": "ipython3",
   "version": "3.11.7"
  }
 },
 "nbformat": 4,
 "nbformat_minor": 5
}
