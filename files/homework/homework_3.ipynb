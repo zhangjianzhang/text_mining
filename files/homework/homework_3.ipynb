{
 "cells": [
  {
   "cell_type": "markdown",
   "id": "f1a58152-baf6-4cc2-8310-cb3531388589",
   "metadata": {},
   "source": [
    "### 第一题"
   ]
  },
  {
   "cell_type": "markdown",
   "id": "55b24c46-f5c6-41dd-b9f6-e5874fdf63fc",
   "metadata": {},
   "source": [
    "作业要求描述：\n",
    "\n",
    "使用本课程提供的中文新闻语料库，并利用`scikit-learn`中的聚类算法进行中文新闻聚类。完成以下任务：\n",
    "\n",
    "1. **构造新闻数据集**：参考课件配套的聚类代码，构造用于聚类的新闻数据集。请注意，不能直接使用与课件中完全相同的文本数据，应进行适当的修改和扩展。\n",
    "\n",
    "2. **聚类算法应用**：使用K-均值（K-Means）和层次聚类（HAC）算法对构建的新闻数据集进行聚类。鼓励使用其他聚类算法进行尝试和对比。\n",
    "\n",
    "3. **算法效果评价**：\n",
    "    - 计算聚类结果的外部和内部评价指标。\n",
    "    - 在类簇数`K`相同时，对比不同算法设定下的聚类结果评价指标得分差异，并对结果进行简要描述和分析。\n",
    "\n",
    "4. **类簇数变化分析**：\n",
    "    - 在相同的算法设定下，对比类簇数`K`变化时的聚类结果评价指标得分差异，并对结果进行简要描述和分析。\n",
    "    - 请绘制横轴为类簇数`K`，纵轴为所选评价指标的分析图表。\n",
    "\n",
    "**注意事项**：\n",
    "\n",
    "1. **算法设定的多样性**：不同的算法设定可以包括但不限于：文本向量化方法不同、聚类算法不同、聚类算法的参数不同等。\n",
    "2. **对比分析要求**：\n",
    "    - 第3小题：至少对比三种不同的算法设定。\n",
    "    - 第3小题：至少选择一种外部评价指标和一种内部评价指标进行对比分析。\n",
    "    - 第4小题：至少选择一种外部评价指标和一种内部评价指标进行对比分析，并使用图表展示结果。\n",
    "3. **数据来源**：请使用以下链接下载中文新闻语料库：https://www.kaggle.com/datasets/jianzhangzhang/text-mining-course-data?select=cn_news_tagged\n",
    "\n",
    "**参考资料**：\n",
    "\n",
    "1. 课件和课件配套代码。"
   ]
  },
  {
   "cell_type": "code",
   "execution_count": 2,
   "id": "cad25c36-555f-4176-b1d2-b9bcefb8128c",
   "metadata": {},
   "outputs": [],
   "source": [
    "### 请在这里写你的答案"
   ]
  },
  {
   "cell_type": "code",
   "execution_count": null,
   "id": "6113c8a1-74f7-4df8-9374-4c32d4359c4b",
   "metadata": {},
   "outputs": [],
   "source": []
  }
 ],
 "metadata": {
  "kernelspec": {
   "display_name": "Python 3 (ipykernel)",
   "language": "python",
   "name": "python3"
  },
  "language_info": {
   "codemirror_mode": {
    "name": "ipython",
    "version": 3
   },
   "file_extension": ".py",
   "mimetype": "text/x-python",
   "name": "python",
   "nbconvert_exporter": "python",
   "pygments_lexer": "ipython3",
   "version": "3.11.7"
  }
 },
 "nbformat": 4,
 "nbformat_minor": 5
}
